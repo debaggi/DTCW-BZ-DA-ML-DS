{
  "nbformat": 4,
  "nbformat_minor": 0,
  "metadata": {
    "colab": {
      "private_outputs": true,
      "provenance": [],
      "collapsed_sections": [
        "blaSb-2UPJvf",
        "Rl7suLUSO5Oe",
        "J89sYymcPeVv",
        "vR1AI4HaBvOa"
      ],
      "authorship_tag": "ABX9TyMGQV3BozAFDS/kAqw7cQBt",
      "include_colab_link": true
    },
    "kernelspec": {
      "name": "python3",
      "display_name": "Python 3"
    },
    "language_info": {
      "name": "python"
    }
  },
  "cells": [
    {
      "cell_type": "markdown",
      "metadata": {
        "id": "view-in-github",
        "colab_type": "text"
      },
      "source": [
        "<a href=\"https://colab.research.google.com/github/debaggi/DTCW-BZ-DA-ML-DS/blob/main/Demographic_data_analyzer.ipynb\" target=\"_parent\"><img src=\"https://colab.research.google.com/assets/colab-badge.svg\" alt=\"Open In Colab\"/></a>"
      ]
    },
    {
      "cell_type": "code",
      "source": [
        "# https://freecodecam-boilerplate-gr127opof4f.ws-eu117.gitpod.io/\n",
        "# https://www.freecodecamp.org/learn/data-analysis-with-python/data-analysis-with-python-projects/demographic-data-analyzer"
      ],
      "metadata": {
        "id": "48XoUXGlZuHM"
      },
      "execution_count": null,
      "outputs": []
    },
    {
      "cell_type": "code",
      "execution_count": null,
      "metadata": {
        "id": "R7Mn_Wzb7mts"
      },
      "outputs": [],
      "source": [
        "import numpy as np\n",
        "import pandas as pd\n",
        "import matplotlib.pyplot as plt\n",
        "import seaborn as sns"
      ]
    },
    {
      "cell_type": "code",
      "source": [
        "from google.colab import drive\n",
        "drive.mount('content/')"
      ],
      "metadata": {
        "id": "E46RPBhm7yB6"
      },
      "execution_count": null,
      "outputs": []
    },
    {
      "cell_type": "code",
      "source": [
        "adult_data = pd.read_csv('/content/content/MyDrive/CodeCamp/Adult Data.csv')\n",
        "\n",
        "# вывожу перечень атрибутов и их типы, а также количество ненулевых значений\n",
        "adult_data.info()"
      ],
      "metadata": {
        "id": "A88w0q1g8TFe"
      },
      "execution_count": null,
      "outputs": []
    },
    {
      "cell_type": "code",
      "source": [
        "# вывожу несколько записей датасета\n",
        "adult_data.head(3)"
      ],
      "metadata": {
        "id": "rO1JzXBgfMKE"
      },
      "execution_count": null,
      "outputs": []
    },
    {
      "cell_type": "markdown",
      "source": [
        "**Рассмотрим атрибуты датасета**\n",
        "\n",
        "Категориальные данные\n",
        "\n",
        "---\n",
        "\n",
        "+ age\n",
        "\n",
        "+ workclass\n",
        "```\n",
        "'State-gov' - правительство штата\n",
        "'Federal-gov' - федеральное управление\n",
        "'Local-gov' - местное управление\n",
        "'Self-emp-not-inc' - не зарегистрированный самозанятый\n",
        "'Self-emp-inc' - Self employee inc/ зарегистрированный самозанятый\n",
        "'Without-pay' - волонтерство/ работа в НКО\n",
        "'Never-worked' - никогда не работал\n",
        "'Private'\n",
        "'?' - не указано\n",
        "```\n",
        "\n",
        "+ education\n",
        "```\n",
        "'Bachelors', 'HS-grad', '11th', 'Masters', '9th', 'Some-college',\n",
        "'Assoc-acdm', 'Assoc-voc', '7th-8th', 'Doctorate', 'Prof-school',\n",
        "'5th-6th', '10th', '1st-4th', 'Preschool', '12th'\n",
        "```\n",
        "+ education-num\n",
        "+ marital-status: семейное положение\n",
        "```\n",
        "'Never-married': никогда не был(а) в браке\n",
        "'Married-civ-spouse': в зарегистрированном браке (незарегистрированный) брак\n",
        "'Divorced': в разводе\n",
        "'Married-spouse-absent': в браке (супруг отсутствует)\n",
        "'Separated': в браке с раздельным проживанием\n",
        "'Married-AF-spouse': в браке с военнослужащим\n",
        "'Widowed': овдовевший\n",
        "```\n",
        "+ occupation: род занятий\n",
        "+ relationship\n",
        "```\n",
        "Not-in-family', 'Husband', 'Wife',\n",
        "'Own-child', 'Unmarried','Other-relative'\n",
        "```\n",
        "+ race\n",
        "```\n",
        "'White', 'Black', 'Asian-Pac-Islander', 'Amer-Indian-Eskimo',\n",
        "'Other'\n",
        "```\n",
        "+ sex\n",
        "+ native-country\n",
        "```\n",
        "'United-States', 'Cuba', 'Jamaica', 'India', '?', 'Mexico',\n",
        "'South', 'Puerto-Rico', 'Honduras', 'England', 'Canada', 'Germany',\n",
        "'Iran', 'Philippines', 'Italy', 'Poland', 'Columbia', 'Cambodia',\n",
        "'Thailand', 'Ecuador', 'Laos', 'Taiwan', 'Haiti', 'Portugal',\n",
        "'Dominican-Republic', 'El-Salvador', 'France', 'Guatemala',\n",
        "'China', 'Japan', 'Yugoslavia', 'Peru','Outlying-US(Guam-USVI-etc)', 'Scotland', 'Trinadad&Tobago','Greece', 'Nicaragua',\n",
        "'Vietnam', 'Hong', 'Ireland', 'Hungary',\n",
        "'Holand-Netherlands'\n",
        "```\n",
        "\n",
        "Количественные данные\n",
        "\n",
        "---\n",
        "\n",
        "+ fnlwgt /final weight -- взвешенный критерий для корректировки выборки относительно генеральной совокупности.\n",
        "+ education-num -- уровень образования\n",
        "+ capital-gain -- прирост капитала / доход от капитала\n",
        "+ capital-loss -- потеря капитала\n",
        "+ hours-per-week -- кол-во рабочих часов в неделю\n",
        "+ salary"
      ],
      "metadata": {
        "id": "tyEhnzIr8fOW"
      }
    },
    {
      "cell_type": "code",
      "source": [
        "# каков средний возраст, количество классов образования, среднее рабочее время в неделю\n",
        "\n",
        "workclass_describe = adult_data.groupby(by='workclass').agg({'workclass':'count',\n",
        "                                        'age':'mean',\n",
        "                                        'education-num':'mean',\n",
        "                                        'hours-per-week':'mean'}).rename(columns={\n",
        "                                                                          'workclass':'number_citizens',\n",
        "                                                                          'age': 'avg_age',\n",
        "                                                                          'education-num':'avg_education_num',\n",
        "                                                                          'hours-per-week':'avg_hpw'}).sort_values(by='number_citizens', ascending=False)\n",
        "\n",
        "total_number_citizens = workclass_describe['number_citizens'].sum(axis=0)\n",
        "workclass_describe['part_of_citizens, %'] = round(workclass_describe['number_citizens'] / total_number_citizens, 5) * 100\n",
        "\n",
        "workclass_describe"
      ],
      "metadata": {
        "id": "Cr3bHuNYBBel"
      },
      "execution_count": null,
      "outputs": []
    },
    {
      "cell_type": "markdown",
      "source": [
        "**наблюдения**\n",
        "\n",
        "+ **у никогда не работавших граждан** зафиксировано среднее рабочее время в неделю 28 часов. Возможно, это время отражает время учебной практики: в среднем ~ 4 часа в день при пяти дневной рабочей неделе.\n",
        "+ **работающие без оплаты** в среднем работают в неделю больше, чем у граждан с другими типами занятости при этом данные граждане не имеют завершенного школьного образования\n",
        "+ **~ 70% граждан** ответили, что относятся к Private workclass при этом в среднем они имеют 9 классов образования и в среднем отрабатывают восьми часовой рабочий день\n"
      ],
      "metadata": {
        "id": "Bv2EYuuuCtkB"
      }
    },
    {
      "cell_type": "code",
      "source": [
        "# рассмотрим роды деятельности в разрезе рабочих классов\n",
        "# выведем кол-во граждан, занятых в каждом роде деятельности\n",
        "\n",
        "adult_data.groupby(by=['workclass', 'occupation']).agg({'occupation':'count'})"
      ],
      "metadata": {
        "id": "Jn_A3LKc-DLU"
      },
      "execution_count": null,
      "outputs": []
    },
    {
      "cell_type": "code",
      "source": [
        "# визуализирую распределение занятости граждан в разрезе подгрупп workclass\n",
        "import matplotlib.pyplot as plt\n",
        "\n",
        "pie_colors = plt.cm.Paired.colors\n",
        "plt.figure(figsize=(8,8))\n",
        "\n",
        "wedges, texts, autotexts = plt.pie(workclass_describe['part_of_citizens, %'],\n",
        "                                  labels=workclass_describe.index, autopct='%1.1f%%',\n",
        "                                  colors=pie_colors,\n",
        "                                  startangle=140,\n",
        "                                  wedgeprops={'edgecolor':'black'},\n",
        "                                  textprops={'fontsize':8})\n",
        "\n",
        "\n",
        "for text in texts:\n",
        "  text.set_fontsize(8)\n",
        "for autotext in autotexts:\n",
        "  autotext.set_fontsize(8)\n",
        "  autotext.set_color('white')\n",
        "\n",
        "plt.title('Distribution of workclass', fontsize=14, fontweight='bold')\n",
        "plt.show()"
      ],
      "metadata": {
        "id": "5X6U4Kw7Wlbv"
      },
      "execution_count": null,
      "outputs": []
    },
    {
      "cell_type": "code",
      "source": [
        "# рассмотрим статистические характеристики количественных данных\n",
        "\n",
        "adult_data[['age', 'fnlwgt', 'education-num', 'capital-gain', 'capital-loss', 'hours-per-week']].describe()"
      ],
      "metadata": {
        "id": "MD2BQpHy_Pk9"
      },
      "execution_count": null,
      "outputs": []
    },
    {
      "cell_type": "code",
      "source": [
        "# строю сводную таблицу в разрезе пола. Рассмотрим кол-во граждан в разрезе полов, медианный возраст, медианный уровень образования\n",
        "\n",
        "demographic_data = adult_data.groupby(by='sex').agg({'sex':'count',\n",
        "                                  'age':'median',\n",
        "                                  'education-num':'median'\n",
        "                                  })\n",
        "demographic_data['sex'] = np.round(demographic_data['sex'] / demographic_data['sex'].sum(axis=0) * 100, 2)\n",
        "demographic_data.rename(columns={'sex':'part_respondents, %',\n",
        "                                 'age':'median_age',\n",
        "                                 'education-num':'median education level'}, inplace=True)\n",
        "demographic_data"
      ],
      "metadata": {
        "id": "obM47LBJ_Sxu"
      },
      "execution_count": null,
      "outputs": []
    },
    {
      "cell_type": "markdown",
      "source": [
        "##### Происхождение респондентов"
      ],
      "metadata": {
        "id": "uExfSgYKA2lg"
      }
    },
    {
      "cell_type": "markdown",
      "source": [
        "для нанесения на карту стран происхождения респондентов переписи, устанавливаю библиотеку geopandas"
      ],
      "metadata": {
        "id": "uR6TZByN0OZ1"
      }
    },
    {
      "cell_type": "code",
      "source": [
        "pip install geopandas"
      ],
      "metadata": {
        "id": "RI3B_1PcAuzA"
      },
      "execution_count": null,
      "outputs": []
    },
    {
      "cell_type": "code",
      "source": [
        "import geopandas as gpd\n",
        "\n",
        "# Загружаю карту мира из naturalearth\n",
        "world = gpd.read_file('https://naturalearth.s3.amazonaws.com/110m_cultural/ne_110m_admin_0_countries.zip')\n",
        "\n",
        "# Список стран, которые нужно отметить на карте\n",
        "native_countries = adult_data['native-country'].unique()\n",
        "world['select'] = world['ADMIN'].isin(native_countries)\n",
        "\n",
        "# Строю карту\n",
        "fig, ax = plt.subplots(figsize=(10, 10))\n",
        "world.plot(ax=ax, color='lightgray', edgecolor='grey')\n",
        "world[world['select']].plot(ax=ax, color='lightblue')\n",
        "\n",
        "# Удаляю координатные оси\n",
        "ax.set_xticks([]), ax.set_yticks([]), ax.set_frame_on(False)\n",
        "\n",
        "plt.title('Native countries of respondents', fontsize=12, fontweight='medium')\n",
        "plt.show()"
      ],
      "metadata": {
        "id": "6pEt86rMOGzC"
      },
      "execution_count": null,
      "outputs": []
    },
    {
      "cell_type": "markdown",
      "source": [
        "#### Детальный анализ количественных атрибутов датасета"
      ],
      "metadata": {
        "id": "Y53PCKOhHG3K"
      }
    },
    {
      "cell_type": "code",
      "source": [
        "import matplotlib.pyplot as plt\n",
        "import numpy as np\n",
        "import pandas as pd\n",
        "import seaborn as sns"
      ],
      "metadata": {
        "id": "wmJTxlMUHi-f"
      },
      "execution_count": null,
      "outputs": []
    },
    {
      "cell_type": "markdown",
      "source": [
        "##### Age"
      ],
      "metadata": {
        "id": "naBSrmHuOzlr"
      }
    },
    {
      "cell_type": "code",
      "source": [
        "########## age analysis ##########\n",
        "\n",
        "adult_data.age.describe()"
      ],
      "metadata": {
        "id": "sz3LEoySDGB3"
      },
      "execution_count": null,
      "outputs": []
    },
    {
      "cell_type": "code",
      "source": [
        "plt.figure(figsize=(25, 4))\n",
        "sns.histplot(adult_data[['age']])\n",
        "plt.xticks(np.arange(15, 95, 1));"
      ],
      "metadata": {
        "id": "XXJ0Eb5-oZ09"
      },
      "execution_count": null,
      "outputs": []
    },
    {
      "cell_type": "markdown",
      "source": [
        "**анализ графика**\n",
        "+ длинный затухающий хвост справа что может свидетелествовать о малой доле пожилого населения в переписи\n",
        "+ 50% данных приходится на диапазон от 28 до 48 лет включительно\n",
        "+ видим мультимодальность. Она проявляется на пиках: [22.5, 27.5, 32.5, 37.5, 43.5, 48.5, 53.5, 58.5, 63.5, 69.5, 74.5, 79.5, 89.5] лет\n",
        " + на основе мод выделю подгруппы:\n",
        "    + учащиеся ```17 <= age < 27.5```\n",
        "    + молодые специалисты ```27.5 <= age < 32.5```\n",
        "    + профессионалы ```32.5 <= age < 58.5```\n",
        "    + пенсионеры ```58.5 <= age < 89.5```"
      ],
      "metadata": {
        "id": "B6u-75zMr9uo"
      }
    },
    {
      "cell_type": "markdown",
      "source": [
        "##### Final weight"
      ],
      "metadata": {
        "id": "blaSb-2UPJvf"
      }
    },
    {
      "cell_type": "code",
      "source": [
        "########## fnlwgt analysis ##########\n",
        "\n",
        "adult_data.fnlwgt.describe()"
      ],
      "metadata": {
        "id": "Nco6-lOJCu4D"
      },
      "execution_count": null,
      "outputs": []
    },
    {
      "cell_type": "code",
      "source": [
        "# оценим расхождение среднего и медианы fnlwgt:\n",
        "f'расхождение среднего и медианы fnlwgt: {round((adult_data.fnlwgt.mean() - adult_data.fnlwgt.median())/adult_data.fnlwgt.mean() * 100, 2)}%'"
      ],
      "metadata": {
        "id": "7HOg2YXxf7s6"
      },
      "execution_count": null,
      "outputs": []
    },
    {
      "cell_type": "code",
      "source": [
        "import matplotlib.pyplot as plt\n",
        "import seaborn as sns\n",
        "\n",
        "plt.figure(figsize=(15, 4))\n",
        "sns.histplot(adult_data[['fnlwgt']])\n",
        "plt.xticks(np.arange(0, 2.0e+06, 0.25e+6));"
      ],
      "metadata": {
        "id": "vp3343fwCzhd"
      },
      "execution_count": null,
      "outputs": []
    },
    {
      "cell_type": "code",
      "source": [
        "# вычисляю размах весового коэффициента\n",
        "\n",
        "adult_data.fnlwgt.max()- adult_data.fnlwgt.min()"
      ],
      "metadata": {
        "id": "qgwx66F2Eps2"
      },
      "execution_count": null,
      "outputs": []
    },
    {
      "cell_type": "code",
      "source": [
        "# проверка на логнормальность\n",
        "\n",
        "mean_fnlwgt = adult_data.fnlwgt.mean()\n",
        "sigma_fnlwgt = adult_data.fnlwgt.std()\n",
        "size_fnlwgt = len(adult_data.fnlwgt)\n",
        "\n",
        "fnlwgt_values = np.random.lognormal(mean=np.log(mean_fnlwgt), sigma=sigma_fnlwgt, size=size_fnlwgt)\n",
        "fig, axes = plt.subplots(1, 2, figsize=(5,4))\n",
        "\n",
        "# строю боксплот для визуализации выбросов и границ основного массива данных\n",
        "sns.boxplot(adult_data[['fnlwgt']], ax=axes[0], color='lightgreen')\n",
        "axes[0].set_title(\"Boxplot's fnlwgt from adult data\")\n",
        "\n",
        "# логарифмическое преобразование\n",
        "log_fnlwgt = np.log1p(fnlwgt_values)\n",
        "\n",
        "# гистограмма после логарифмического преобразования\n",
        "sns.histplot(log_fnlwgt, bins=5, kde=True, ax=axes[1], color='lightblue')\n",
        "axes[1].set_title('Гистограмма log(fnlwgt)')\n",
        "\n",
        "plt.tight_layout();"
      ],
      "metadata": {
        "id": "9RfAzheLG6_6"
      },
      "execution_count": null,
      "outputs": []
    },
    {
      "cell_type": "markdown",
      "source": [
        "**анализ графика**\n",
        "\n",
        "+ видим ассиметрию гистограммы вправую сторону с редко встречающимися большими значениями, поэтому будем рассматривать медиану, а не среднее в качестве меры центральной тенденции\n",
        "+ в основном значения сосредоточены в узком коридоре, при этом видим длинный хвост распределения\n",
        "+ обратим внимание на плавность затухания кривой. Можем сделать предположение о том, что перед нами логнормальное распределение или распределение Парето\n",
        "+ разброс данных составляет 1 472 420, что может говорить о представленности в выборке множества различных респондентов\n",
        "+ распределение мультимодально, из чего сделаем предположение о наличии в выборке нескольких категорий населения\n",
        "\n"
      ],
      "metadata": {
        "id": "d1h8kGMaD8pI"
      }
    },
    {
      "cell_type": "markdown",
      "source": [
        "##### Capital gain"
      ],
      "metadata": {
        "id": "Rl7suLUSO5Oe"
      }
    },
    {
      "cell_type": "code",
      "source": [
        "########## capital-gain analysis ##########\n",
        "\n",
        "adult_data['capital-gain'].describe()"
      ],
      "metadata": {
        "id": "zsWsZmQ_NHmp"
      },
      "execution_count": null,
      "outputs": []
    },
    {
      "cell_type": "code",
      "source": [
        "# Рассчитываю отношение стандартного отклонения к среднему\n",
        "\n",
        "std_by_mean_capital_gain = round(adult_data['capital-gain'].std()/ adult_data['capital-gain'].mean(), 1)\n",
        "f'Стандартное отклонение превосходит среднее значение в: {std_by_mean_capital_gain} раз'"
      ],
      "metadata": {
        "id": "9NuZIIi7NeNb"
      },
      "execution_count": null,
      "outputs": []
    },
    {
      "cell_type": "markdown",
      "source": [
        "Стандартное отклонение превосходит среднее capital-gain в ~ 7 раз.\n",
        "\n",
        "Это может говорить о высоком уровне дисперсии и наличии зашумляющих данные выбросов или широком диапазоне значений.\n",
        "\n"
      ],
      "metadata": {
        "id": "XZtYj-LXjCxn"
      }
    },
    {
      "cell_type": "code",
      "source": [
        "# Строю гистограмму частот\n",
        "\n",
        "plt.figure(figsize=(5, 4))\n",
        "sns.histplot(adult_data['capital-gain'], color='orange', alpha=.7)\n",
        "\n",
        "plt.title('Распределение сумм прирощения капитала среди респондентов')\n",
        "plt.xlabel('Capital gain'), plt.ylabel('Number of respondents')\n",
        "\n",
        "plt.xticks(np.arange(0, 110000, 10000), rotation=90, fontsize=7)\n",
        "plt.yticks(np.arange(0, 35000, 5000), fontsize=7);"
      ],
      "metadata": {
        "id": "i5m1deXr22WL"
      },
      "execution_count": null,
      "outputs": []
    },
    {
      "cell_type": "markdown",
      "source": [
        "**анализ графика**\n",
        "+ среднее значение составляет 1 077 при этом стандартное отклонение превышает среднее ~ в 7 раз\n",
        "+ основной прирост капитала находится в диапазоне до 60 000 включительно\n",
        "+ ~ 1 000 человек прирастили 6 000 до примерно 12 5000\n",
        "+ < 1 000 человек заработали от 12 500 до 18 500\n",
        "+ < 200 человек смогли прирастить от 94 000 до 100 000 капитала\n",
        "+ 75% населения не имеет доход от капитала"
      ],
      "metadata": {
        "id": "udltNzzO4-pJ"
      }
    },
    {
      "cell_type": "markdown",
      "source": [
        "##### Capital loss"
      ],
      "metadata": {
        "id": "Wv9LdpYnPd0W"
      }
    },
    {
      "cell_type": "code",
      "source": [
        "########## Capital loss analysis ##########\n",
        "\n",
        "adult_data['capital-loss'].describe()"
      ],
      "metadata": {
        "id": "lTybCa2GPd0X"
      },
      "execution_count": null,
      "outputs": []
    },
    {
      "cell_type": "code",
      "source": [
        "# Рассчитываю отношение стандартного отклонения к среднему\n",
        "\n",
        "std_by_mean_capital_loss = round(adult_data['capital-loss'].std()/ adult_data['capital-loss'].mean(), 1)\n",
        "f'Стандартное отклонение превосходит среднее в: {std_by_mean_capital_loss} раз'"
      ],
      "metadata": {
        "id": "9ZEdDnkMlndA"
      },
      "execution_count": null,
      "outputs": []
    },
    {
      "cell_type": "markdown",
      "source": [
        "Визуализирую распредление потерь капитала"
      ],
      "metadata": {
        "id": "XAlyQx6DmVvX"
      }
    },
    {
      "cell_type": "code",
      "source": [
        "plt.figure(figsize=(6, 3))\n",
        "sns.histplot(adult_data['capital-loss'], color='orange', alpha=.7)\n",
        "\n",
        "plt.title('Гистограмма \"Распределение суммарной потери капитала среди респондентов\"\\n', fontsize=11)\n",
        "plt.xlabel('\\nCapital loss'), plt.ylabel('\\n\\nNumber respondents')\n",
        "\n",
        "plt.xticks(np.arange(0, 4500, 250), rotation=90, fontsize=9)\n",
        "plt.yticks(np.arange(0, 35000, 5000), fontsize=9)\n",
        "plt.tight_layout();"
      ],
      "metadata": {
        "id": "c6cIgQgXRBUG"
      },
      "execution_count": null,
      "outputs": []
    },
    {
      "cell_type": "markdown",
      "source": [
        "**анализ графика**\n",
        "\n",
        "+ в среднем потери капитала составляют 87 единиц и при этом стандартное отклонение ~ в 5 раз больше среднего.\n",
        "+ большая часть населения не имеет потерь.\n",
        "Отмечу, что в данных есть записи, в которых ненулевые потери капитала могут быть при нулевом приросте капитала."
      ],
      "metadata": {
        "id": "73xXA83WQyii"
      }
    },
    {
      "cell_type": "code",
      "source": [
        "########## education-num ##########\n",
        "\n",
        "adult_data['education-num'].describe()"
      ],
      "metadata": {
        "id": "IbuuExmYOvAh"
      },
      "execution_count": null,
      "outputs": []
    },
    {
      "cell_type": "markdown",
      "source": [
        "##### Education num"
      ],
      "metadata": {
        "id": "OFT3_HiO9R5b"
      }
    },
    {
      "cell_type": "code",
      "source": [
        "plt.figure(figsize=(6, 3))\n",
        "\n",
        "sns.histplot(adult_data['education-num'])\n",
        "\n",
        "plt.title('Распределение количества классов образования среди респондентов\\n')\n",
        "plt.xlabel('Education num'), plt.ylabel('Number of respondents', fontsize=9)\n",
        "plt.xticks(fontsize=9), plt.yticks(np.arange(0, 12000, 2000), fontsize=9);"
      ],
      "metadata": {
        "id": "9DTjtVPnTKDC"
      },
      "execution_count": null,
      "outputs": []
    },
    {
      "cell_type": "code",
      "source": [
        "size_dataset = len(adult_data)\n",
        "\n",
        "# количество граждан с полным школьным образованием: пройдено 10 классов\n",
        "has_school_education = len(adult_data[adult_data['education-num'] == 10])\n",
        "has_school_education_percent = round(has_school_education /size_dataset , 2) * 100\n",
        "\n",
        "hasnt_school_education = len(adult_data[adult_data['education-num'] < 10])\n",
        "hasnt_school_education_percent = round(hasnt_school_education / size_dataset ,2) * 100\n",
        "\n",
        "# количество граждан с бакалаврским образованием: 11-14 классы\n",
        "has_bachelor_grade = len(adult_data[adult_data['education-num'] == 14])\n",
        "hasnt_bachelor_grade = len(adult_data[(adult_data['education-num'] > 10) & (adult_data['education-num'] < 14)])\n",
        "\n",
        "has_bachelors_grade_percent = round(has_bachelor_grade /size_dataset , 2) * 100\n",
        "hasnt_bachelors_grade_percent = round(hasnt_bachelor_grade / size_dataset ,2) * 100\n",
        "\n",
        "# количество граждан с магистерским образованием: 15-16 классы\n",
        "has_master_grade = len(adult_data[adult_data['education-num'] == 16])\n",
        "hasnt_master_grade = len(adult_data[(adult_data['education-num'] > 14) & (adult_data['education-num'] < 16)])\n",
        "\n",
        "has_master_grade_percent = round(has_master_grade /size_dataset , 2) * 100\n",
        "hasnt_master_grade_percent = round(hasnt_master_grade / size_dataset ,2) * 100\n",
        "\n",
        "\n",
        "print(f'количество граждан с полным школьным образованием: {has_school_education}({has_school_education_percent}%) человек \\nне имеют школьного образования: {hasnt_school_education}({hasnt_school_education_percent}%)')\n",
        "print(f'\\nколичество граждан с бакалаврским образованием: {has_bachelor_grade}({has_bachelors_grade_percent}%) человек\\nне имеют бакалаврского образования: {hasnt_bachelor_grade}({hasnt_bachelors_grade_percent}%)')\n",
        "print(f'\\nколичество граждан с магистерским образованием: {has_master_grade}({has_master_grade_percent}%) человек\\nне имеют магистерского образования: {hasnt_master_grade}({hasnt_master_grade_percent}%)')"
      ],
      "metadata": {
        "id": "302HgsGvHHIf"
      },
      "execution_count": null,
      "outputs": []
    },
    {
      "cell_type": "markdown",
      "source": [
        "**анализ графика**\n",
        "\n",
        "+ количество граждан с полным школьным образованием меньше количества граждан без полного школьного образования в больше чем 2 раза\n",
        "+ 45% граждан не имеют школьного образования\n",
        "+ 22% граждан имеют 10 классов образования\n",
        "+ 24% граждан имеют школьное образование и не имеют степени бакалавра\n",
        "+ 5% имеют степень бакалавра\n",
        "+ 2% граждан имеют бакалаврское и не имеют магистерского образования\n",
        "+ 1% граждан имеют магистерское образование"
      ],
      "metadata": {
        "id": "PFwGfPu8Q6Yr"
      }
    },
    {
      "cell_type": "code",
      "source": [
        "# рассмотрим финансовые показатели каждой группы населения в разрезе уровня образования\n",
        "adult_data.pivot_table(index='education-num', values=['age', 'capital-gain', 'capital-loss'],\n",
        "                       aggfunc={'age':'mean',\n",
        "                                'capital-gain':'mean',\n",
        "                                'capital-loss':'mean'}).sort_values('capital-gain',\n",
        "                                                                    ascending=False)"
      ],
      "metadata": {
        "id": "MEoRKTdHVTCv"
      },
      "execution_count": null,
      "outputs": []
    },
    {
      "cell_type": "markdown",
      "source": [
        "##### Hours-per-week"
      ],
      "metadata": {
        "id": "g6vJ9KFHPeKV"
      }
    },
    {
      "cell_type": "code",
      "source": [
        "########## hours-per-week analysis ##########\n",
        "adult_data['hours-per-week'].describe()"
      ],
      "metadata": {
        "id": "4TBNMsfwPeKV"
      },
      "execution_count": null,
      "outputs": []
    },
    {
      "cell_type": "code",
      "source": [
        "plt.figure(figsize=(4, 4))\n",
        "\n",
        "plt.title('Распределение количества занятых работой часов в неделю среди респондентов')\n",
        "\n",
        "plt.xlabel('Hours per week', fontsize=9), plt.ylabel('Number of respondents')\n",
        "plt.xticks(fontsize=9), plt.yticks(fontsize=9)\n",
        "sns.histplot(adult_data['hours-per-week']);"
      ],
      "metadata": {
        "id": "LTsziZ_eUZfO"
      },
      "execution_count": null,
      "outputs": []
    },
    {
      "cell_type": "code",
      "source": [
        "# вывожу сводную таблицу количества рабочих часов в неделю в разрезе возраста респондентов\n",
        "adult_data.pivot_table(index='age', values=['hours-per-week'], aggfunc={'hours-per-week':'mean'})"
      ],
      "metadata": {
        "id": "YndGQW36VJjH"
      },
      "execution_count": null,
      "outputs": []
    },
    {
      "cell_type": "code",
      "source": [
        "# среднее количество рабочих часов в по возрастным группам\n",
        "work_hours_by_week_for_age = adult_data.pivot_table(index='age', values=['hours-per-week'], aggfunc={'hours-per-week':'mean'}).rename(columns={'hours-per-week':'mean_work_hours_by_week'})\n",
        "work_hours_by_week_for_age['mean_work_hours_by_week'] = round(work_hours_by_week_for_age['mean_work_hours_by_week'], 2)"
      ],
      "metadata": {
        "id": "UsGbF1yF3M6T"
      },
      "execution_count": null,
      "outputs": []
    },
    {
      "source": [
        "# визуализация распределение среднего количества рабочих часов в неделю вдоль возрастной шкалы\n",
        "\n",
        "from matplotlib import pyplot as plt\n",
        "import seaborn as sns\n",
        "\n",
        "plt.figure(figsize=(12, 3))\n",
        "plt.title('Распределение среднего количества рабочих часов в неделю по возрастам респондентов')\n",
        "\n",
        "sns.scatterplot(x='age', y='mean_work_hours_by_week', data=work_hours_by_week_for_age, color='lightblue')\n",
        "\n",
        "plt.yticks(np.arange(0, 50, 5))\n",
        "plt.ylabel('Mean work hours by week');"
      ],
      "cell_type": "code",
      "metadata": {
        "id": "J5ipwFnBVocJ"
      },
      "execution_count": null,
      "outputs": []
    },
    {
      "cell_type": "markdown",
      "source": [
        "**Анализ графика**\n",
        "\n",
        "+ Минимальное количество рабочих часов в неделю в среднем составляет 1 час.\n",
        "+ начиная с 17 лет среднее количество рабочих часов в месяц более 20 часов (может быть подработка в школьные или студенческие годы)\n",
        "+ граждане пенсионного возраста (стандартный возраст выхода на пенсию -- от 55 лет)\n",
        "+ от 60 до ~ 75 лет видим плавное снижение средней продолжительности рабочего времени в неделю\n",
        "+ от 80 до ~ 83.5 лет происходит резкое снижение (< 10 часов) средней продолжительности рабочего времени в неделю\n",
        "+ наблюдаем резкий рост (до 40 часов) средней продолжительности рабочего времени в неделю\n",
        "+ максимальная продолжительность рабочей недели  равна 99 часов.\n",
        "Потенциально, это либо говорит об ошибке в данных либо о наличии граждан, работающие по 19.5 часов в день при пяти дневном рабочем графике или по 14 часов при семи дневном рабочем графика. Оба варианта говорят о высоком уровне нагрузки на сотрудника."
      ],
      "metadata": {
        "id": "Qczpko10Q9YL"
      }
    },
    {
      "cell_type": "markdown",
      "source": [
        "#### Ответы на вопросы /  Answers to questions"
      ],
      "metadata": {
        "id": "vR1AI4HaBvOa"
      }
    },
    {
      "cell_type": "code",
      "source": [
        "# How many of each race are represented in this dataset? This should be a Pandas series with race names as the index labels\n",
        "race_count = adult_data.race.value_counts()\n",
        "\n",
        "print(\"Number of each race\")\n",
        "display(race_count)"
      ],
      "metadata": {
        "id": "jffobZRkIX71"
      },
      "execution_count": null,
      "outputs": []
    },
    {
      "cell_type": "code",
      "source": [
        "# What is the average age of men?\n",
        "average_age_men = adult_data[adult_data['sex']=='Male']['age'].mean().round(1)\n",
        "\n",
        "print(\"Average age of men:\", average_age_men)"
      ],
      "metadata": {
        "id": "lT4n5ddPKQGd"
      },
      "execution_count": null,
      "outputs": []
    },
    {
      "cell_type": "code",
      "source": [
        "# What is the percentage of people who have a Bachelor's degree?\n",
        "percentage_bachelors = ((adult_data['education']=='Bachelors').mean() * 100).round(2)\n",
        "\n",
        "print(f\"Percentage with Bachelors degrees: {percentage_bachelors}%\")"
      ],
      "metadata": {
        "id": "stTAIcAlLEj3"
      },
      "execution_count": null,
      "outputs": []
    },
    {
      "cell_type": "code",
      "source": [
        "# What percentage of people with advanced education (`Bachelors`, `Masters`, or `Doctorate`) make more than 50K?\n",
        "# What percentage of people without advanced education make more than 50K?\n",
        "\n",
        "# with and without `Bachelors`, `Masters`, or `Doctorate`\n",
        "higher_education = adult_data[adult_data['education'].isin(['Bachelors', 'Masters', 'Doctorate'])]\n",
        "lower_education = adult_data[~adult_data['education'].isin(['Bachelors', 'Masters', 'Doctorate'])]\n",
        "\n",
        "# percentage with salary >50K\n",
        "higher_education_rich = ((higher_education['salary']=='>50K').mean() * 100).round(2)\n",
        "lower_education_rich = ((lower_education['salary']=='>50K').mean() * 100).round(2)\n",
        "\n",
        "print(f\"Percentage with higher education that earn >50K: \\n{higher_education_rich} %\\n\")\n",
        "print(f\"Percentage without higher education that earn >50K: \\n{lower_education_rich} %\")"
      ],
      "metadata": {
        "id": "EDrIWnSNMxQq"
      },
      "execution_count": null,
      "outputs": []
    },
    {
      "cell_type": "code",
      "source": [
        "# What is the minimum number of hours a person works per week?\n",
        "min_work_hours = adult_data['hours-per-week'].min()\n",
        "min_work_hours\n",
        "\n",
        "print(f\"Min work time: {min_work_hours} hours/week\")"
      ],
      "metadata": {
        "id": "v-mlfep7aBDR"
      },
      "execution_count": null,
      "outputs": []
    },
    {
      "cell_type": "code",
      "source": [
        "# What percentage of the people who work the minimum number of hours per week have a salary of more than 50K?\n",
        "num_min_workers = adult_data[adult_data['hours-per-week'] == min_work_hours]\n",
        "rich_percentage = round(len(num_min_workers.query('salary == \">50K\"')) / len(adult_data) * 100,2)\n",
        "\n",
        "print(f\"Percentage of rich among those who work fewest hours: {rich_percentage}%\")"
      ],
      "metadata": {
        "id": "lo3jCUNdaCCc"
      },
      "execution_count": null,
      "outputs": []
    },
    {
      "cell_type": "code",
      "source": [
        "# What country has the highest percentage of people that earn >50K?\n",
        "country_earning =  adult_data.groupby(by='native-country')['salary'].apply(lambda s: (s ==\">50K\").mean())\n",
        "highest_earning_country = country_earning.idxmax()\n",
        "\n",
        "highest_earning_country_percentage = country_earning.max()\n",
        "\n",
        "f'Country with the highest percentage of people with higer education and earning over 50K: {highest_earning_country}'"
      ],
      "metadata": {
        "id": "bnG2uqsqaCyu"
      },
      "execution_count": null,
      "outputs": []
    },
    {
      "cell_type": "code",
      "source": [
        "# Identify the most popular occupation for those who earn >50K in India.\n",
        "top_IN_occupation = adult_data[(adult_data['native-country']=='India') & (adult_data['salary']=='>50K')].groupby(by='occupation').agg({'occupation':'count'}).idxmax().values[0]\n",
        "print(f'The more popular occupation for those who earn > 50K in India: {top_IN_occupation}')"
      ],
      "metadata": {
        "id": "u2ikc9q7IMrr"
      },
      "execution_count": null,
      "outputs": []
    }
  ]
}
